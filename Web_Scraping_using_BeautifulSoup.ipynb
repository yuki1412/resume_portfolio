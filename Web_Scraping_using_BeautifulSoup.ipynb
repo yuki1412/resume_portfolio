{
  "nbformat": 4,
  "nbformat_minor": 0,
  "metadata": {
    "colab": {
      "name": "Web Scraping using BeautifulSoup.ipynb",
      "provenance": []
    },
    "kernelspec": {
      "name": "python3",
      "display_name": "Python 3"
    }
  },
  "cells": [
    {
      "cell_type": "code",
      "metadata": {
        "id": "m-edZVYSLJfY"
      },
      "source": [
        "from bs4 import BeautifulSoup # Web Scraping Library \n",
        "import requests # URL from your browser"
      ],
      "execution_count": 1,
      "outputs": []
    },
    {
      "cell_type": "code",
      "metadata": {
        "id": "MQSuCHUTLpUA"
      },
      "source": [
        "# URL = 'https://www.thestar.com.my/'\n",
        "URL = 'https://www.thestar.com.my/news/nation/2020/10/02/new-covid-19-cases-surge'"
      ],
      "execution_count": 7,
      "outputs": []
    },
    {
      "cell_type": "code",
      "metadata": {
        "id": "mApfDUZJLWFz"
      },
      "source": [
        "page_response = requests.get(URL, timeout=5)\n",
        "# print(page_response.content)\n",
        "\n",
        "page_content = BeautifulSoup(page_response.content, \"html.parser\")\n",
        "print(page_content)"
      ],
      "execution_count": null,
      "outputs": []
    },
    {
      "cell_type": "code",
      "metadata": {
        "id": "ZD8v81ABMVeY"
      },
      "source": [
        "title_content = page_content.select('h1')\n"
      ],
      "execution_count": 10,
      "outputs": []
    },
    {
      "cell_type": "code",
      "metadata": {
        "id": "vJJq5s8oMdO_"
      },
      "source": [
        "main_title = title_content[0].text.strip()"
      ],
      "execution_count": 16,
      "outputs": []
    },
    {
      "cell_type": "code",
      "metadata": {
        "id": "lTrQgKnGM1_x",
        "outputId": "2eb431e6-1eb0-454d-ba9b-0b16fbafa4b6",
        "colab": {
          "base_uri": "https://localhost:8080/",
          "height": 35
        }
      },
      "source": [
        "main_title"
      ],
      "execution_count": 17,
      "outputs": [
        {
          "output_type": "execute_result",
          "data": {
            "application/vnd.google.colaboratory.intrinsic+json": {
              "type": "string"
            },
            "text/plain": [
              "'New Covid-19 cases surge'"
            ]
          },
          "metadata": {
            "tags": []
          },
          "execution_count": 17
        }
      ]
    },
    {
      "cell_type": "code",
      "metadata": {
        "id": "bH8KcIEhPIh_"
      },
      "source": [
        "body_list = page_content.findAll('div',{'class' : 'story bot-15 relative'})"
      ],
      "execution_count": 35,
      "outputs": []
    },
    {
      "cell_type": "code",
      "metadata": {
        "id": "jpIjSx3YP3d1",
        "outputId": "2549e35f-91e7-4513-c00f-a45f2be5d6c0",
        "colab": {
          "base_uri": "https://localhost:8080/",
          "height": 34
        }
      },
      "source": [
        "print(f'Body Content : {body_list[0]}')"
      ],
      "execution_count": 88,
      "outputs": [
        {
          "output_type": "stream",
          "text": [
            "Body Content : <p>PUTRAJAYA: Malaysia saw a surge in new Covid-19 cases after 260 infections were recorded in the country.</p>\n"
          ],
          "name": "stdout"
        }
      ]
    },
    {
      "cell_type": "code",
      "metadata": {
        "id": "CDN-l0BJP45x",
        "outputId": "5eb68d70-3164-4257-c1d6-8bdda46e2efc",
        "colab": {
          "base_uri": "https://localhost:8080/",
          "height": 34
        }
      },
      "source": [
        "body_content = page_content.find('div', {'id' : 'story-body'})\n",
        "body_list = body_content.find_all('p')\n",
        "print(f'First body content : {body_list[0]}')\n",
        "\n",
        "# for x in body_list:   # Remove tag and space using for loop\n",
        "#   test.append(x.text.strip())\n",
        "\n",
        "body_list = [x.text.strip() for x in body_list]  # Remove tag and space using list comprehension"
      ],
      "execution_count": 190,
      "outputs": [
        {
          "output_type": "stream",
          "text": [
            "First body content : <p>PUTRAJAYA: Malaysia saw a surge in new Covid-19 cases after 260 infections were recorded in the country.</p>\n"
          ],
          "name": "stdout"
        }
      ]
    },
    {
      "cell_type": "code",
      "metadata": {
        "id": "JVgwK9ONXdPG"
      },
      "source": [
        "img_content = body_content.find_all('img')\n",
        "\n",
        "img = {\n",
        "    'src' : img_content[0]['src'],\n",
        "    'alt' : img_content[0]['alt']\n",
        "}"
      ],
      "execution_count": 126,
      "outputs": []
    },
    {
      "cell_type": "code",
      "metadata": {
        "id": "lPYsE0ZmXe7A",
        "outputId": "c3022abe-5ab1-4f94-ec63-17b9fa881d14",
        "colab": {
          "base_uri": "https://localhost:8080/",
          "height": 52
        }
      },
      "source": [
        "img"
      ],
      "execution_count": 124,
      "outputs": [
        {
          "output_type": "execute_result",
          "data": {
            "text/plain": [
              "{'alt': 'Updating statistics: Dr Noor Hisham speaking during a press conference on Covid-19 at the Health Ministry in Putrajaya. — Bernama',\n",
              " 'src': 'https://apicms.thestar.com.my/uploads/images/2020/10/02/882631.jpg'}"
            ]
          },
          "metadata": {
            "tags": []
          },
          "execution_count": 124
        }
      ]
    },
    {
      "cell_type": "code",
      "metadata": {
        "id": "_8VdZoNpbAtw",
        "outputId": "fba3688d-4740-4b67-e7db-b448e29637c0",
        "colab": {
          "base_uri": "https://localhost:8080/",
          "height": 552
        }
      },
      "source": [
        "\n",
        "news = {\n",
        "    'title' : main_title,\n",
        "    'body' : body_list,\n",
        "    'image' : img,\n",
        "}\n",
        "news"
      ],
      "execution_count": 191,
      "outputs": [
        {
          "output_type": "execute_result",
          "data": {
            "text/plain": [
              "{'body': ['PUTRAJAYA: Malaysia saw a surge in new Covid-19 cases after 260 infections were recorded in the country.',\n",
              "  'This is the highest increase in cases of the recovery movement control order (MCO) phase since it began on June 9.',\n",
              "  'Health director-general Tan Sri Dr Noor Hisham Abdullah said at the ministry’s Covid-19 press conference that all cases were local transmissions, except for one imported infection.',\n",
              "  'Sabah recorded the highest number of new cases with 118, followed closely by Kedah with 98 cases.',\n",
              "  'Updating statistics: Dr Noor Hisham speaking during a press conference on Covid-19 at the Health Ministry in Putrajaya. — Bernama',\n",
              "  'Kuala Lumpur recorded 14 cases followed by Selangor with 13, Putrajaya (five), Terengganu (two), Perlis (two), Pahang (one), Penang (one) and Melaka (one).',\n",
              "  'Of the total number of cases, 31 of them involved those who had just returned from Sabah recently.',\n",
              "  'The Tembok cluster in Kota Setar, Kedah, saw a rise in cases with 88 new infections. This brings its total of cases to 91.',\n",
              "  'There were four new clusters detected by the Health Ministry, in Kedah, Putrajaya, Tawau and Sabah.',\n",
              "  'The Bah Ketil cluster, identified in Baling and Langkawi in Kedah, has recorded nine cases so far.',\n",
              "  '“The index case cluster involved a Malaysian aged 39 years old who has a travel history to Tawau, Sabah, from Sept 17 to 29.',\n",
              "  '“The patient had symptoms such as coughing and muscle pain since Sept 24 and received treatment at a health clinic in Sungai Petani, Kedah.',\n",
              "  '“Following that, a close contact screening was done and eight other people have tested positive for Covid-19 within that identified cluster, ” said Dr Noor Hisham.',\n",
              "  'The Selasih cluster in Putrajaya also has a Sabah connection.',\n",
              "  'Dr Noor Hisham said the 37-year-old index case had travelled to Kota Kinabalu, Melangkap and Kundasang in Sabah recently.',\n",
              "  '“The patient started to show fever and cough symptoms on Sept 25 and had a Covid-19 test at KLIA on Sept 27. Subsequently his results came out positive the next day.',\n",
              "  '“Six other people have tested positive and all have been admitted to the Sungai Buloh Hospital, ” he said.',\n",
              "  'The Joo Hwa cluster in Tawau, Sabah originated from a 31-year-old man who began experiencing symptoms of fever and cough on Sept 14. He tested positive for Covid-19 on Sept 20.',\n",
              "  'Contact tracing found four more individuals who are infected.',\n",
              "  'The Jalan Meru cluster in Klang, Selangor involved a man aged 30 who started to display symptoms on Sept 24, before testing positive for the virus on Sept 29.',\n",
              "  'Screening of close contacts found three more individuals who are infected.',\n",
              "  'Dr Noor Hisham also said that there were no new deaths while 47 Covid-19 patients have recovered.',\n",
              "  'The total number of active cases in the country has now gone up to 1,334 cases.',\n",
              "  'Currently, 20 people are being treated at the intensive care unit, with three of them requiring ventilator support.',\n",
              "  'Cumulatively, the country’s total cases since the outbreak began in January is 11,484.',\n",
              "  ''],\n",
              " 'image': {'alt': 'Updating statistics: Dr Noor Hisham speaking during a press conference on Covid-19 at the Health Ministry in Putrajaya. — Bernama',\n",
              "  'src': 'https://apicms.thestar.com.my/uploads/images/2020/10/02/882631.jpg'},\n",
              " 'title': 'New Covid-19 cases surge'}"
            ]
          },
          "metadata": {
            "tags": []
          },
          "execution_count": 191
        }
      ]
    },
    {
      "cell_type": "code",
      "metadata": {
        "id": "QSUDKKl2br49"
      },
      "source": [
        ""
      ],
      "execution_count": null,
      "outputs": []
    }
  ]
}