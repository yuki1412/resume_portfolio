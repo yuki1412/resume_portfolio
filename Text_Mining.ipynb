{
  "nbformat": 4,
  "nbformat_minor": 0,
  "metadata": {
    "colab": {
      "name": "Text Mining.ipynb",
      "provenance": [],
      "collapsed_sections": []
    },
    "kernelspec": {
      "name": "python3",
      "display_name": "Python 3"
    }
  },
  "cells": [
    {
      "cell_type": "code",
      "metadata": {
        "id": "rBxeLzWfrXMj"
      },
      "source": [
        "d1 = \"The sky is blue.\"\n",
        "d2 = \"The sun is bright.\"\n",
        "d3 = \"The sun in the sky is bright.\"\n",
        "d4 = \"We can see the shining sun, the bright sun.\"\n",
        "d5 = \"Sun oh Mr. Sun, please shine on us. Your lovely sunshine makes my day bright\"\n",
        "d6 = \"Sun, Sun go away, I hate sun, sun sun sun sun sun!\"\n",
        "\n",
        "original_documents = [d1, d2, d3, d4, d5, d6]"
      ],
      "execution_count": 1,
      "outputs": []
    },
    {
      "cell_type": "code",
      "metadata": {
        "id": "w7WJUYI3rouf",
        "outputId": "e5d0db09-d876-4134-8a2d-b22b6fd1ff55",
        "colab": {
          "base_uri": "https://localhost:8080/",
          "height": 119
        }
      },
      "source": [
        "def tokenize(d):\n",
        "    import re\n",
        "    stopwords = open('stopwords.txt','r').read().splitlines()\n",
        "    tokens = re.findall(r'\\w+', d)\n",
        "    return [t.lower() for t in tokens if t.lower() not in stopwords]\n",
        "\n",
        "documents = []\n",
        "for d in original_documents:\n",
        "    documents.append(tokenize(d))\n",
        "    \n",
        "documents"
      ],
      "execution_count": 5,
      "outputs": [
        {
          "output_type": "execute_result",
          "data": {
            "text/plain": [
              "[['sky', 'blue'],\n",
              " ['sun', 'bright'],\n",
              " ['sun', 'sky', 'bright'],\n",
              " ['shining', 'sun', 'bright', 'sun'],\n",
              " ['sun', 'sun', 'shine', 'lovely', 'sunshine', 'makes', 'day', 'bright'],\n",
              " ['sun', 'sun', 'hate', 'sun', 'sun', 'sun', 'sun', 'sun', 'sun']]"
            ]
          },
          "metadata": {
            "tags": []
          },
          "execution_count": 5
        }
      ]
    },
    {
      "cell_type": "markdown",
      "metadata": {
        "id": "uOPIp4-915aV"
      },
      "source": [
        ""
      ]
    },
    {
      "cell_type": "code",
      "metadata": {
        "id": "eeLTRvpQsDRn",
        "outputId": "f418a728-deb9-4a3e-8fc5-7f7d24987b8c",
        "colab": {
          "base_uri": "https://localhost:8080/",
          "height": 411
        }
      },
      "source": [
        "from collections import Counter\n",
        "from math import log\n",
        "doc_tf = []\n",
        "for d in documents:\n",
        "    length = len(d)\n",
        "    tf = [(term, frequency / float(length)) for term, frequency in Counter(d).items()]\n",
        "    doc_tf.append(tf)\n",
        "# Calculate DF\n",
        "N = len(documents) #Total documents\n",
        "df = {}\n",
        "for d in documents:\n",
        "    for term in d:\n",
        "        if term in df:\n",
        "            continue\n",
        "        else:\n",
        "            df[term] = 0 #initialize the counter\n",
        "        for doc in documents:\n",
        "            if term in doc:\n",
        "                df[term] = df[term] + 1.  # DON'T Forget the DOT\n",
        "# Calculate IDF\n",
        "idf = {}\n",
        "for term in df:\n",
        "    idf[term] = log(N/df[term])\n",
        "features = []\n",
        "for d in doc_tf:\n",
        "    tfidf = [(term, frequency * idf[term]) for term,frequency in d]\n",
        "    features.append(tfidf)\n",
        "features"
      ],
      "execution_count": 7,
      "outputs": [
        {
          "output_type": "stream",
          "text": [
            "[('sky', 0.5), ('blue', 0.5)]\n",
            "[('sun', 0.5), ('bright', 0.5)]\n",
            "[('sun', 0.3333333333333333), ('sky', 0.3333333333333333), ('bright', 0.3333333333333333)]\n",
            "[('shining', 0.25), ('sun', 0.5), ('bright', 0.25)]\n",
            "[('sun', 0.25), ('shine', 0.125), ('lovely', 0.125), ('sunshine', 0.125), ('makes', 0.125), ('day', 0.125), ('bright', 0.125)]\n",
            "[('sun', 0.8888888888888888), ('hate', 0.1111111111111111)]\n"
          ],
          "name": "stdout"
        },
        {
          "output_type": "execute_result",
          "data": {
            "text/plain": [
              "[[('sky', 0.5493061443340549), ('blue', 0.8958797346140275)],\n",
              " [('sun', 0.0911607783969773), ('bright', 0.2027325540540822)],\n",
              " [('sun', 0.060773852264651526),\n",
              "  ('sky', 0.3662040962227032),\n",
              "  ('bright', 0.13515503603605478)],\n",
              " [('shining', 0.44793986730701374),\n",
              "  ('sun', 0.0911607783969773),\n",
              "  ('bright', 0.1013662770270411)],\n",
              " [('sun', 0.04558038919848865),\n",
              "  ('shine', 0.22396993365350687),\n",
              "  ('lovely', 0.22396993365350687),\n",
              "  ('sunshine', 0.22396993365350687),\n",
              "  ('makes', 0.22396993365350687),\n",
              "  ('day', 0.22396993365350687),\n",
              "  ('bright', 0.05068313851352055)],\n",
              " [('sun', 0.16206360603907075), ('hate', 0.19908438546978388)]]"
            ]
          },
          "metadata": {
            "tags": []
          },
          "execution_count": 7
        }
      ]
    },
    {
      "cell_type": "code",
      "metadata": {
        "id": "um5TU-5Ctfh5"
      },
      "source": [
        "import math\n",
        "def cosim(vec1, vec2):\n",
        "    v1 = dict(vec1)\n",
        "    v2 = dict(vec2)\n",
        "    intersection = set(v1.keys()) & set(v2.keys())\n",
        "    numerator = sum([v1[x] * v1[x] for x in intersection])\n",
        "    sum1 = sum([v1[x]**2 for x in v1.keys()])\n",
        "    sum2 = sum([v2[x]**2 for x in v2.keys()])\n",
        "    denominator = math.sqrt(sum1) * math.sqrt(sum2)\n",
        "    if not denominator:\n",
        "        return 0.0\n",
        "    else:\n",
        "        return float(numerator) / denominator"
      ],
      "execution_count": 8,
      "outputs": []
    },
    {
      "cell_type": "code",
      "metadata": {
        "id": "2a1GH4RjuqB1",
        "outputId": "57a50591-c77b-4e1a-e07b-7a8f0d745ccd",
        "colab": {
          "base_uri": "https://localhost:8080/",
          "height": 119
        }
      },
      "source": [
        "import operator\n",
        "query = 'sun bright'\n",
        "q = [(token,1) for token in query.split(' ')]\n",
        "results = {}\n",
        "for i in range(len(features)):\n",
        "    results[i] = cosim(features[i],q)\n",
        "sorted_results = sorted(results.items(), key=operator.itemgetter(1), reverse = True)\n",
        "for (i, score) in sorted_results:\n",
        "    print(\"{0} - {1}\".format(score,original_documents[i]))"
      ],
      "execution_count": 9,
      "outputs": [
        {
          "output_type": "stream",
          "text": [
            "0.15717947701788892 - The sun is bright.\n",
            "0.07234623101347748 - Sun, Sun go away, I hate sun, sun sun sun sun sun!\n",
            "0.039307037041059666 - The sun in the sky is bright.\n",
            "0.028067366538722917 - We can see the shining sun, the bright sun.\n",
            "0.006500346953948024 - Sun oh Mr. Sun, please shine on us. Your lovely sunshine makes my day bright\n",
            "0.0 - The sky is blue.\n"
          ],
          "name": "stdout"
        }
      ]
    },
    {
      "cell_type": "code",
      "metadata": {
        "id": "4fziJZKwwIZ1"
      },
      "source": [
        ""
      ],
      "execution_count": null,
      "outputs": []
    }
  ]
}